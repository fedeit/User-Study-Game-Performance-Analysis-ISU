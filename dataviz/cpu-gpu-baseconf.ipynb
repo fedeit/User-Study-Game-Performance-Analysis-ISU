{
 "cells": [
  {
   "cell_type": "code",
   "execution_count": 2,
   "metadata": {},
   "outputs": [],
   "source": [
    "import os\n",
    "os.chdir('/Users/federicogalbiati/Documents/GitHub/User-Study-Game-Performance-Analysis-ISU/')"
   ]
  },
  {
   "cell_type": "code",
   "execution_count": 25,
   "metadata": {},
   "outputs": [
    {
     "name": "stdout",
     "output_type": "stream",
     "text": [
      "            CPU Total GPU Total\n",
      "game_name                      \n",
      "Apex             20.5      32.9\n",
      "CSGO             12.8      17.1\n",
      "CivVI             9.1      16.2\n",
      "Fortnite         17.2      12.4\n",
      "GTA5              8.9      15.0\n",
      "Hearthstone       9.9      18.6\n",
      "Minecraft        67.9      15.0\n",
      "Overwatch        24.0      20.1\n",
      "PUBG             18.7      28.2\n",
      "R6               15.8      12.3\n",
      "            CPU Total GPU Total\n",
      "game_name                      \n",
      "Apex             16.4      25.9\n",
      "CSGO             15.1      41.7\n",
      "CivVI            11.6      36.5\n",
      "Fortnite         21.9      17.0\n",
      "GTA5              8.8      20.9\n",
      "Hearthstone       3.2      16.2\n",
      "Minecraft        86.9      14.4\n",
      "Overwatch        10.7      77.4\n",
      "PUBG             41.2      81.9\n",
      "R6               14.2      29.8\n"
     ]
    },
    {
     "name": "stderr",
     "output_type": "stream",
     "text": [
      "/var/folders/x_/w698k_n90fv9l61z4fctj_fr0000gn/T/ipykernel_96333/2412285611.py:20: FutureWarning: Dropping invalid columns in DataFrameGroupBy.mean is deprecated. In a future version, a TypeError will be raised. Before calling .mean, select only columns which should be valid for the function.\n",
      "  df_load = df_load.groupby(['game_name']).mean()\n",
      "/var/folders/x_/w698k_n90fv9l61z4fctj_fr0000gn/T/ipykernel_96333/2412285611.py:25: FutureWarning: Dropping invalid columns in DataFrameGroupBy.mean is deprecated. In a future version, a TypeError will be raised. Before calling .mean, select only columns which should be valid for the function.\n",
      "  df_level = df_level.groupby(['game_name']).mean()\n"
     ]
    }
   ],
   "source": [
    "import pandas as pd\n",
    "from glob import glob\n",
    "\n",
    "df = pd.DataFrame(columns=['game_name', 'CPU Total', 'GPU Total', 'type'])\n",
    "\n",
    "for log in glob('data/processed/hw-study/G10-6700-SSD/*.csv'):\n",
    "    if 'metrics_' in log: continue\n",
    "    game_name = os.path.basename(log).split('-')[0]\n",
    "    type = os.path.basename(log).split('-')[1]\n",
    "    data = pd.read_csv(log)\n",
    "    data = data[['CPU Total', 'GPU Total']]\n",
    "    data['game_name'] = game_name\n",
    "    data['type'] = type\n",
    "    df = pd.concat([data, df])\n",
    "\n",
    "df = df[df['game_name'] != 'LoL']\n",
    "df = df[df['game_name'] != 'AssassinCreed']\n",
    "\n",
    "df_load = df[df['type'] == 'game']\n",
    "df_load = df_load.groupby(['game_name']).mean()\n",
    "df_load = df_load.applymap('{:,.1f}'.format)\n",
    "print(df_load)\n",
    "\n",
    "df_level = df[df['type'] == 'level']\n",
    "df_level = df_level.groupby(['game_name']).mean()\n",
    "df_level = df_level.applymap('{:,.1f}'.format)\n",
    "print(df_level)\n",
    "\n"
   ]
  },
  {
   "cell_type": "code",
   "execution_count": 37,
   "metadata": {},
   "outputs": [
    {
     "name": "stdout",
     "output_type": "stream",
     "text": [
      "Apex Apex & 20.5 & 32.9 & 16.4 & 25.9 \\\\\n",
      "CSGO CSGO & 12.8 & 17.1 & 15.1 & 41.7 \\\\\n",
      "CivVI CivVI & 9.1 & 16.2 & 11.6 & 36.5 \\\\\n",
      "Fortnite Fortnite & 17.2 & 12.4 & 21.9 & 17.0 \\\\\n",
      "GTA5 GTA5 & 8.9 & 15.0 & 8.8 & 20.9 \\\\\n",
      "Hearthstone Hearthstone & 9.9 & 18.6 & 3.2 & 16.2 \\\\\n",
      "Minecraft Minecraft & 67.9 & 15.0 & 86.9 & 14.4 \\\\\n",
      "Overwatch Overwatch & 24.0 & 20.1 & 10.7 & 77.4 \\\\\n",
      "PUBG PUBG & 18.7 & 28.2 & 41.2 & 81.9 \\\\\n",
      "R6 R6 & 15.8 & 12.3 & 14.2 & 29.8 \\\\\n"
     ]
    }
   ],
   "source": [
    "for load, level in zip(df_load.iterrows(), df_level.iterrows()):\n",
    "    print(f'{load[1].name} {level[1].name} & {load[1][\"CPU Total\"]} & {load[1][\"GPU Total\"]} & {level[1][\"CPU Total\"]} & {level[1][\"GPU Total\"]} \\\\\\\\')"
   ]
  }
 ],
 "metadata": {
  "interpreter": {
   "hash": "6a1a5eead3c1b980fe0ece3cc1baa08d0464e7f30969ad47e4d19f10ad7e732b"
  },
  "kernelspec": {
   "display_name": "Python 3.9.7 ('base')",
   "language": "python",
   "name": "python3"
  },
  "language_info": {
   "codemirror_mode": {
    "name": "ipython",
    "version": 3
   },
   "file_extension": ".py",
   "mimetype": "text/x-python",
   "name": "python",
   "nbconvert_exporter": "python",
   "pygments_lexer": "ipython3",
   "version": "3.9.7"
  },
  "orig_nbformat": 4
 },
 "nbformat": 4,
 "nbformat_minor": 2
}
